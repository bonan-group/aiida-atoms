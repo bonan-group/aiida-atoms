{
 "cells": [
  {
   "cell_type": "markdown",
   "id": "3e4dff4c-7ef2-4a0c-bb47-cc6d9f53604d",
   "metadata": {
    "tags": []
   },
   "source": [
    "# Using `AtomsTracker`\n",
    "\n",
    "Here we show how to use `AtomsTracker` to automatically record operations performed on `ase.Atoms`"
   ]
  },
  {
   "cell_type": "markdown",
   "id": "3c2f78c7-d100-4809-8835-9c52c461cb56",
   "metadata": {},
   "source": [
    "Installing AiiDA takes a few extra steps and require setting up an database normally (see [here](https://aiida.readthedocs.io/projects/aiida-core/en/latest/intro/get_started.html)).   \n",
    "Here, for demostration only, we use a temporay profile with `SqliteTempBackend`. "
   ]
  },
  {
   "cell_type": "code",
   "execution_count": 1,
   "id": "ee6a97a2-9e92-42b3-865b-8c28e4286001",
   "metadata": {},
   "outputs": [
    {
     "data": {
      "text/plain": [
       "Profile<uuid='e7bd450e8df84717afd329b2001ac939' name='myprofile'>"
      ]
     },
     "execution_count": 1,
     "metadata": {},
     "output_type": "execute_result"
    }
   ],
   "source": [
    "from aiida import load_profile, engine, orm, plugins\n",
    "from aiida.manage.configuration import get_config\n",
    "from aiida.storage.sqlite_temp import SqliteTempBackend\n",
    "\n",
    "%load_ext aiida\n",
    "\n",
    "profile = load_profile(\n",
    "    SqliteTempBackend.create_profile(\n",
    "        'myprofile',\n",
    "        options={\n",
    "            'warnings.development_version': False,\n",
    "            'runner.poll.interval': 1\n",
    "        },\n",
    "        debug=False\n",
    "    ),\n",
    "    allow_switch=True\n",
    ")\n",
    "config = get_config()\n",
    "config.add_profile(profile)\n",
    "config.set_default_profile(profile.name)\n",
    "profile"
   ]
  },
  {
   "cell_type": "code",
   "execution_count": 2,
   "id": "f046b26c-70b8-43c8-9d59-d78e68651bf1",
   "metadata": {},
   "outputs": [],
   "source": [
    "from aiida_atoms import AtomsTracker\n",
    "from ase.build import bulk\n"
   ]
  },
  {
   "cell_type": "markdown",
   "id": "efac99fe-f2c1-40da-a321-b4bd2b4b774f",
   "metadata": {},
   "source": [
    "The `ase.Atoms` object models a atomic structure can be used in various ways. It is the centre piece to the `ase` ecosystem and used for constructing structure, data analysis and also calculations themselves.\n",
    "Here, we focus the first use case - using `ase.Atoms` for constructing input structures used in various materials modelling workflows.\n",
    "A common pattern is to start from a bulk structure, constructed manually or loaded from a online database (such as ICSD), and perform certain operations before it is used as inputs for first-principles calculations.\n",
    "\n",
    "In this example, we start with a carbon in the diamond structure to create a defect supercell:"
   ]
  },
  {
   "cell_type": "code",
   "execution_count": 3,
   "id": "0cf28d02-da2e-486b-a109-68073efed79e",
   "metadata": {},
   "outputs": [],
   "source": [
    "c2 = bulk(\"C\")"
   ]
  },
  {
   "cell_type": "markdown",
   "id": "a7e44d22-9af4-4c4c-9577-23fb5196b0af",
   "metadata": {},
   "source": [
    "create a supercell can be done with `.repeat`"
   ]
  },
  {
   "cell_type": "code",
   "execution_count": 4,
   "id": "144d6ebe-a4b3-4890-bb36-cd763b594429",
   "metadata": {},
   "outputs": [],
   "source": [
    "supercell = c2.repeat((3,3,3))"
   ]
  },
  {
   "cell_type": "markdown",
   "id": "c7895efb-16fe-4af1-abe5-f83910ed4683",
   "metadata": {},
   "source": [
    "note that `.repeat` is an out of place operation - a new `ase.Atoms` object is created "
   ]
  },
  {
   "cell_type": "code",
   "execution_count": 5,
   "id": "0d6afc3d-6d23-444f-96fc-366ce21bf790",
   "metadata": {},
   "outputs": [
    {
     "name": "stdout",
     "output_type": "stream",
     "text": [
      "Atoms(symbols='C54', pbc=True, cell=[[0.0, 5.3549999999999995, 5.3549999999999995], [5.3549999999999995, 0.0, 5.3549999999999995], [5.3549999999999995, 5.3549999999999995, 0.0]])\n"
     ]
    }
   ],
   "source": [
    "print(supercell)"
   ]
  },
  {
   "cell_type": "markdown",
   "id": "8731d5c3-5859-48dc-b3c0-f33400c3e3aa",
   "metadata": {},
   "source": [
    "Let's remove an atom from it:"
   ]
  },
  {
   "cell_type": "code",
   "execution_count": 6,
   "id": "c3682cd3-5bb4-4842-a0bb-753e7a6e56fa",
   "metadata": {},
   "outputs": [
    {
     "name": "stdout",
     "output_type": "stream",
     "text": [
      "Atoms(symbols='C53', pbc=True, cell=[[0.0, 5.3549999999999995, 5.3549999999999995], [5.3549999999999995, 0.0, 5.3549999999999995], [5.3549999999999995, 5.3549999999999995, 0.0]])\n"
     ]
    }
   ],
   "source": [
    "supercell.pop(0)\n",
    "print(supercell)"
   ]
  },
  {
   "cell_type": "markdown",
   "id": "deecffa4-aae8-4acb-aab8-b93dfb5263d9",
   "metadata": {},
   "source": [
    "New our supercell has only 53 atoms, we write it to the disk"
   ]
  },
  {
   "cell_type": "code",
   "execution_count": 7,
   "id": "0e372e53-7eec-4c25-9d4e-4cd40515269b",
   "metadata": {},
   "outputs": [],
   "source": [
    "supercell.write(\"C_Vac_c.vasp\")"
   ]
  },
  {
   "cell_type": "markdown",
   "id": "b5576093-9967-4af9-96f1-c1e6a903f679",
   "metadata": {},
   "source": [
    "The structure can be read into a different python session for further operation or used for calculation."
   ]
  },
  {
   "cell_type": "code",
   "execution_count": 8,
   "id": "6a454c9d-eb19-424e-8de2-aaa734cb9518",
   "metadata": {},
   "outputs": [],
   "source": [
    "import ase.io\n",
    "supercell_loaded = ase.io.read(\"C_Vac_c.vasp\")"
   ]
  },
  {
   "cell_type": "markdown",
   "id": "cc910a49-edd6-44d5-a62a-6b985c1af4c7",
   "metadata": {},
   "source": [
    "However, if the file `C_Vac_c.vasp` itself does not contain any history about how it was made, e.g  which structure was used as the bulk and which atom was remove.\n",
    "\n",
    "Let put the `AtomsTracker` into use:"
   ]
  },
  {
   "cell_type": "code",
   "execution_count": 9,
   "id": "02ad2f0d-90fc-4a33-8454-5b0597019489",
   "metadata": {},
   "outputs": [],
   "source": [
    "tracker = AtomsTracker(c2)\n",
    "tracker.label = \"C2 Primitive\"\n",
    "defect_cell = tracker.repeat((3,3,3))\n",
    "defect_cell.pop(0)\n",
    "defect_cell.rattle(stdev=0.05, seed=11)\n",
    "defect_cell.label = \"C2 Rattled supercell\""
   ]
  },
  {
   "cell_type": "markdown",
   "id": "011b6bc1-d7c3-46b6-b124-9e974ca64e73",
   "metadata": {},
   "source": [
    "now both `tracker` and `supercell` are `AtomsTracker` objects: "
   ]
  },
  {
   "cell_type": "code",
   "execution_count": 10,
   "id": "bac5c41e-248c-451c-b9a7-e53d0b168b29",
   "metadata": {},
   "outputs": [
    {
     "name": "stdout",
     "output_type": "stream",
     "text": [
      "<aiida_atoms.tracker.AtomsTracker object at 0x7fe28876f520> <aiida_atoms.tracker.AtomsTracker object at 0x7fe26908e880>\n"
     ]
    }
   ],
   "source": [
    "print(tracker, defect_cell)"
   ]
  },
  {
   "cell_type": "markdown",
   "id": "1d3bfb5f-4b32-4d5b-9a9a-79254829379d",
   "metadata": {},
   "source": [
    "An `AtomsTracker` is just an `ase.Atoms` object plus an `aiida.orm.StructureData` with methods of `ase.Atoms` attached."
   ]
  },
  {
   "cell_type": "code",
   "execution_count": 11,
   "id": "d5c2e56a-b0aa-4f46-9200-ef31dd0c80c5",
   "metadata": {},
   "outputs": [
    {
     "name": "stdout",
     "output_type": "stream",
     "text": [
      "Atoms(symbols='C2', pbc=True, cell=[[0.0, 1.785, 1.785], [1.785, 0.0, 1.785], [1.785, 1.785, 0.0]])\n",
      "<StructureData: uuid: 9d989409-39eb-4357-a31a-786e6409a3e7 (pk: 2)>\n"
     ]
    }
   ],
   "source": [
    "print(tracker.atoms)\n",
    "\n",
    "print(tracker.node.__repr__())"
   ]
  },
  {
   "cell_type": "code",
   "execution_count": 12,
   "id": "bddf4d5e-6e80-476a-93a6-686eccff222b",
   "metadata": {},
   "outputs": [
    {
     "name": "stdout",
     "output_type": "stream",
     "text": [
      "Atoms(symbols='C53', pbc=True, cell=[[0.0, 5.3549999999999995, 5.3549999999999995], [5.3549999999999995, 0.0, 5.3549999999999995], [5.3549999999999995, 5.3549999999999995, 0.0]], masses=...)\n",
      "<StructureData: uuid: b584ed8d-f67e-4317-8b04-56b8de536e7e (pk: 11)>\n"
     ]
    }
   ],
   "source": [
    "print(defect_cell.atoms)\n",
    "\n",
    "print(defect_cell.node.__repr__())"
   ]
  },
  {
   "cell_type": "markdown",
   "id": "f48e12e2-aede-4141-aa47-537e7b3f4315",
   "metadata": {},
   "source": [
    "Now the `supercell` includes the history show how it was made"
   ]
  },
  {
   "cell_type": "code",
   "execution_count": 13,
   "id": "59214a3b-be2e-40e1-bcfd-3d0e7d28245f",
   "metadata": {},
   "outputs": [
    {
     "name": "stdout",
     "output_type": "stream",
     "text": [
      "LinkTriple(node=<CalcFunctionNode: uuid: 90eecd91-80f4-4b36-a0b5-dbf6d6f14d08 (pk: 10) (ase.atoms.rattle)>, link_type=<LinkType.CREATE: 'create'>, link_label='result')\n"
     ]
    }
   ],
   "source": [
    "calc_pop = defect_cell.node.base.links.get_incoming().one()\n",
    "print(calc_pop)"
   ]
  },
  {
   "cell_type": "markdown",
   "id": "a81d5552-bd63-488f-91e9-94e0c37f900a",
   "metadata": {},
   "source": [
    "`LinkTriple` is an object to represent a link between two nodes. Here, one is the output strucutre `supercell.node` and the other is a `Calculation` that create the output.\n",
    "\n",
    "We can also check what are the inputs used in this calculation:"
   ]
  },
  {
   "cell_type": "code",
   "execution_count": 14,
   "id": "0b9369b5-a239-4e27-b59e-e118c2a35106",
   "metadata": {},
   "outputs": [
    {
     "data": {
      "text/plain": [
       "[LinkTriple(node=<Float: uuid: aa9dfd6c-950e-4a51-bfb3-b48022cbc8ba (pk: 8) value: 0.05>, link_type=<LinkType.INPUT_CALC: 'input_calc'>, link_label='stdev'),\n",
       " LinkTriple(node=<Int: uuid: 47669895-8b61-4e36-8a74-e0e085802921 (pk: 9) value: 11>, link_type=<LinkType.INPUT_CALC: 'input_calc'>, link_label='seed'),\n",
       " LinkTriple(node=<StructureData: uuid: da970742-1231-4b80-9cbc-9cb48477616f (pk: 7)>, link_type=<LinkType.INPUT_CALC: 'input_calc'>, link_label='node')]"
      ]
     },
     "execution_count": 14,
     "metadata": {},
     "output_type": "execute_result"
    }
   ],
   "source": [
    "calc_func = calc_pop.node\n",
    "calc_func.base.links.get_incoming().all()"
   ]
  },
  {
   "cell_type": "markdown",
   "id": "70fb0f5d-95c2-4b88-b201-18edddc003aa",
   "metadata": {},
   "source": [
    "Let's visualise the provenance."
   ]
  },
  {
   "cell_type": "code",
   "execution_count": 15,
   "id": "e34fb479-39aa-4b71-bd81-9df60517e65d",
   "metadata": {},
   "outputs": [
    {
     "data": {
      "image/svg+xml": [
       "<?xml version=\"1.0\" encoding=\"UTF-8\" standalone=\"no\"?>\n",
       "<!DOCTYPE svg PUBLIC \"-//W3C//DTD SVG 1.1//EN\"\n",
       " \"http://www.w3.org/Graphics/SVG/1.1/DTD/svg11.dtd\">\n",
       "<!-- Generated by graphviz version 2.47.2 (20210527.1257)\n",
       " -->\n",
       "<!-- Pages: 1 -->\n",
       "<svg width=\"595pt\" height=\"778pt\"\n",
       " viewBox=\"0.00 0.00 595.25 777.96\" xmlns=\"http://www.w3.org/2000/svg\" xmlns:xlink=\"http://www.w3.org/1999/xlink\">\n",
       "<g id=\"graph0\" class=\"graph\" transform=\"scale(1 1) rotate(0) translate(4 773.96)\">\n",
       "<polygon fill=\"white\" stroke=\"transparent\" points=\"-4,4 -4,-773.96 591.25,-773.96 591.25,4 -4,4\"/>\n",
       "<!-- N11 -->\n",
       "<g id=\"node1\" class=\"node\">\n",
       "<title>N11</title>\n",
       "<ellipse fill=\"#8cd499\" stroke=\"red\" stroke-width=\"6\" cx=\"385.25\" cy=\"-26.87\" rx=\"103.48\" ry=\"26.74\"/>\n",
       "<text text-anchor=\"middle\" x=\"385.25\" y=\"-30.67\" font-family=\"Times-Roman\" font-size=\"14.00\">StructureData (11)</text>\n",
       "<text text-anchor=\"middle\" x=\"385.25\" y=\"-15.67\" font-family=\"Times-Roman\" font-size=\"14.00\">C53</text>\n",
       "</g>\n",
       "<!-- N1 -->\n",
       "<g id=\"node2\" class=\"node\">\n",
       "<title>N1</title>\n",
       "<ellipse fill=\"#8cd499\" stroke=\"black\" stroke-width=\"0\" cx=\"42.25\" cy=\"-743.09\" rx=\"42.49\" ry=\"18\"/>\n",
       "<text text-anchor=\"middle\" x=\"42.25\" y=\"-739.39\" font-family=\"Times-Roman\" font-size=\"14.00\">List (1)</text>\n",
       "</g>\n",
       "<!-- N3 -->\n",
       "<g id=\"node4\" class=\"node\">\n",
       "<title>N3</title>\n",
       "<polygon fill=\"#de707f\" fill-opacity=\"0.466667\" stroke=\"black\" stroke-width=\"0\" points=\"178.75,-650.22 61.75,-650.22 61.75,-597.22 178.75,-597.22 178.75,-650.22\"/>\n",
       "<text text-anchor=\"middle\" x=\"120.25\" y=\"-635.02\" font-family=\"Times-Roman\" font-size=\"14.00\">repeat (3)</text>\n",
       "<text text-anchor=\"middle\" x=\"120.25\" y=\"-620.02\" font-family=\"Times-Roman\" font-size=\"14.00\">State: finished</text>\n",
       "<text text-anchor=\"middle\" x=\"120.25\" y=\"-605.02\" font-family=\"Times-Roman\" font-size=\"14.00\">Exit Code: 0</text>\n",
       "</g>\n",
       "<!-- N1&#45;&gt;N3 -->\n",
       "<g id=\"edge6\" class=\"edge\">\n",
       "<title>N1&#45;&gt;N3</title>\n",
       "<path fill=\"none\" stroke=\"#000000\" d=\"M53.13,-725.65C63.06,-710.68 78.12,-687.96 91.25,-668.22 93.28,-665.17 95.39,-662 97.5,-658.82\"/>\n",
       "<polygon fill=\"#000000\" stroke=\"#000000\" points=\"100.43,-660.74 103.06,-650.48 94.6,-656.86 100.43,-660.74\"/>\n",
       "<text text-anchor=\"middle\" x=\"134.25\" y=\"-687.02\" font-family=\"Times-Roman\" font-size=\"14.00\">INPUT_CALC</text>\n",
       "<text text-anchor=\"middle\" x=\"134.25\" y=\"-672.02\" font-family=\"Times-Roman\" font-size=\"14.00\">arg_00</text>\n",
       "</g>\n",
       "<!-- N2 -->\n",
       "<g id=\"node3\" class=\"node\">\n",
       "<title>N2</title>\n",
       "<ellipse fill=\"#8cd499\" stroke=\"black\" stroke-width=\"0\" cx=\"199.25\" cy=\"-743.09\" rx=\"96.75\" ry=\"26.74\"/>\n",
       "<text text-anchor=\"middle\" x=\"199.25\" y=\"-746.89\" font-family=\"Times-Roman\" font-size=\"14.00\">StructureData (2)</text>\n",
       "<text text-anchor=\"middle\" x=\"199.25\" y=\"-731.89\" font-family=\"Times-Roman\" font-size=\"14.00\">C2</text>\n",
       "</g>\n",
       "<!-- N2&#45;&gt;N3 -->\n",
       "<g id=\"edge3\" class=\"edge\">\n",
       "<title>N2&#45;&gt;N3</title>\n",
       "<path fill=\"none\" stroke=\"#000000\" d=\"M195.62,-716.08C192.56,-701.07 187.05,-682.43 177.25,-668.22 174.63,-664.43 171.58,-660.83 168.27,-657.44\"/>\n",
       "<polygon fill=\"#000000\" stroke=\"#000000\" points=\"170.4,-654.63 160.7,-650.36 165.62,-659.74 170.4,-654.63\"/>\n",
       "<text text-anchor=\"middle\" x=\"234.25\" y=\"-687.02\" font-family=\"Times-Roman\" font-size=\"14.00\">INPUT_CALC</text>\n",
       "<text text-anchor=\"middle\" x=\"234.25\" y=\"-672.02\" font-family=\"Times-Roman\" font-size=\"14.00\">node</text>\n",
       "</g>\n",
       "<!-- N4 -->\n",
       "<g id=\"node5\" class=\"node\">\n",
       "<title>N4</title>\n",
       "<ellipse fill=\"#8cd499\" stroke=\"black\" stroke-width=\"0\" cx=\"120.25\" cy=\"-504.35\" rx=\"96.75\" ry=\"26.74\"/>\n",
       "<text text-anchor=\"middle\" x=\"120.25\" y=\"-508.15\" font-family=\"Times-Roman\" font-size=\"14.00\">StructureData (4)</text>\n",
       "<text text-anchor=\"middle\" x=\"120.25\" y=\"-493.15\" font-family=\"Times-Roman\" font-size=\"14.00\">C54</text>\n",
       "</g>\n",
       "<!-- N3&#45;&gt;N4 -->\n",
       "<g id=\"edge10\" class=\"edge\">\n",
       "<title>N3&#45;&gt;N4</title>\n",
       "<path fill=\"none\" stroke=\"#000000\" d=\"M120.25,-596.96C120.25,-580.72 120.25,-559.49 120.25,-541.57\"/>\n",
       "<polygon fill=\"#000000\" stroke=\"#000000\" points=\"123.75,-541.45 120.25,-531.45 116.75,-541.45 123.75,-541.45\"/>\n",
       "<text text-anchor=\"middle\" x=\"147.75\" y=\"-568.02\" font-family=\"Times-Roman\" font-size=\"14.00\">CREATE</text>\n",
       "<text text-anchor=\"middle\" x=\"147.75\" y=\"-553.02\" font-family=\"Times-Roman\" font-size=\"14.00\">result</text>\n",
       "</g>\n",
       "<!-- N6 -->\n",
       "<g id=\"node7\" class=\"node\">\n",
       "<title>N6</title>\n",
       "<polygon fill=\"#de707f\" fill-opacity=\"0.466667\" stroke=\"black\" stroke-width=\"0\" points=\"261.75,-411.48 144.75,-411.48 144.75,-358.48 261.75,-358.48 261.75,-411.48\"/>\n",
       "<text text-anchor=\"middle\" x=\"203.25\" y=\"-396.28\" font-family=\"Times-Roman\" font-size=\"14.00\">pop (6)</text>\n",
       "<text text-anchor=\"middle\" x=\"203.25\" y=\"-381.28\" font-family=\"Times-Roman\" font-size=\"14.00\">State: finished</text>\n",
       "<text text-anchor=\"middle\" x=\"203.25\" y=\"-366.28\" font-family=\"Times-Roman\" font-size=\"14.00\">Exit Code: 0</text>\n",
       "</g>\n",
       "<!-- N4&#45;&gt;N6 -->\n",
       "<g id=\"edge5\" class=\"edge\">\n",
       "<title>N4&#45;&gt;N6</title>\n",
       "<path fill=\"none\" stroke=\"#000000\" d=\"M138.26,-477.88C150.25,-460.93 166.14,-438.46 179.2,-419.98\"/>\n",
       "<polygon fill=\"#000000\" stroke=\"#000000\" points=\"182.07,-421.99 184.99,-411.8 176.35,-417.95 182.07,-421.99\"/>\n",
       "<text text-anchor=\"middle\" x=\"215.25\" y=\"-448.28\" font-family=\"Times-Roman\" font-size=\"14.00\">INPUT_CALC</text>\n",
       "<text text-anchor=\"middle\" x=\"215.25\" y=\"-433.28\" font-family=\"Times-Roman\" font-size=\"14.00\">node</text>\n",
       "</g>\n",
       "<!-- N5 -->\n",
       "<g id=\"node6\" class=\"node\">\n",
       "<title>N5</title>\n",
       "<ellipse fill=\"#8cd499\" stroke=\"black\" stroke-width=\"0\" cx=\"286.25\" cy=\"-504.35\" rx=\"50.82\" ry=\"26.74\"/>\n",
       "<text text-anchor=\"middle\" x=\"286.25\" y=\"-508.15\" font-family=\"Times-Roman\" font-size=\"14.00\">Int (5)</text>\n",
       "<text text-anchor=\"middle\" x=\"286.25\" y=\"-493.15\" font-family=\"Times-Roman\" font-size=\"14.00\">value: 0</text>\n",
       "</g>\n",
       "<!-- N5&#45;&gt;N6 -->\n",
       "<g id=\"edge9\" class=\"edge\">\n",
       "<title>N5&#45;&gt;N6</title>\n",
       "<path fill=\"none\" stroke=\"#000000\" d=\"M281.9,-477.26C278.44,-462.24 272.42,-443.59 262.25,-429.48 259.42,-425.56 256.13,-421.84 252.58,-418.36\"/>\n",
       "<polygon fill=\"#000000\" stroke=\"#000000\" points=\"254.77,-415.62 244.99,-411.54 250.09,-420.82 254.77,-415.62\"/>\n",
       "<text text-anchor=\"middle\" x=\"320.25\" y=\"-448.28\" font-family=\"Times-Roman\" font-size=\"14.00\">INPUT_CALC</text>\n",
       "<text text-anchor=\"middle\" x=\"320.25\" y=\"-433.28\" font-family=\"Times-Roman\" font-size=\"14.00\">arg_00</text>\n",
       "</g>\n",
       "<!-- N7 -->\n",
       "<g id=\"node8\" class=\"node\">\n",
       "<title>N7</title>\n",
       "<ellipse fill=\"#8cd499\" stroke=\"black\" stroke-width=\"0\" cx=\"203.25\" cy=\"-265.61\" rx=\"96.75\" ry=\"26.74\"/>\n",
       "<text text-anchor=\"middle\" x=\"203.25\" y=\"-269.41\" font-family=\"Times-Roman\" font-size=\"14.00\">StructureData (7)</text>\n",
       "<text text-anchor=\"middle\" x=\"203.25\" y=\"-254.41\" font-family=\"Times-Roman\" font-size=\"14.00\">C53</text>\n",
       "</g>\n",
       "<!-- N6&#45;&gt;N7 -->\n",
       "<g id=\"edge1\" class=\"edge\">\n",
       "<title>N6&#45;&gt;N7</title>\n",
       "<path fill=\"none\" stroke=\"#000000\" d=\"M203.25,-358.22C203.25,-341.98 203.25,-320.75 203.25,-302.83\"/>\n",
       "<polygon fill=\"#000000\" stroke=\"#000000\" points=\"206.75,-302.71 203.25,-292.71 199.75,-302.71 206.75,-302.71\"/>\n",
       "<text text-anchor=\"middle\" x=\"230.75\" y=\"-329.28\" font-family=\"Times-Roman\" font-size=\"14.00\">CREATE</text>\n",
       "<text text-anchor=\"middle\" x=\"230.75\" y=\"-314.28\" font-family=\"Times-Roman\" font-size=\"14.00\">result</text>\n",
       "</g>\n",
       "<!-- N10 -->\n",
       "<g id=\"node11\" class=\"node\">\n",
       "<title>N10</title>\n",
       "<polygon fill=\"#de707f\" fill-opacity=\"0.466667\" stroke=\"black\" stroke-width=\"0\" points=\"443.75,-172.74 326.75,-172.74 326.75,-119.74 443.75,-119.74 443.75,-172.74\"/>\n",
       "<text text-anchor=\"middle\" x=\"385.25\" y=\"-157.54\" font-family=\"Times-Roman\" font-size=\"14.00\">rattle (10)</text>\n",
       "<text text-anchor=\"middle\" x=\"385.25\" y=\"-142.54\" font-family=\"Times-Roman\" font-size=\"14.00\">State: finished</text>\n",
       "<text text-anchor=\"middle\" x=\"385.25\" y=\"-127.54\" font-family=\"Times-Roman\" font-size=\"14.00\">Exit Code: 0</text>\n",
       "</g>\n",
       "<!-- N7&#45;&gt;N10 -->\n",
       "<g id=\"edge8\" class=\"edge\">\n",
       "<title>N7&#45;&gt;N10</title>\n",
       "<path fill=\"none\" stroke=\"#000000\" d=\"M231,-239.57C248.64,-224.37 272.39,-205.18 295.25,-190.74 302.5,-186.16 310.3,-181.73 318.17,-177.56\"/>\n",
       "<polygon fill=\"#000000\" stroke=\"#000000\" points=\"319.79,-180.66 327.07,-172.97 316.57,-174.44 319.79,-180.66\"/>\n",
       "<text text-anchor=\"middle\" x=\"338.25\" y=\"-209.54\" font-family=\"Times-Roman\" font-size=\"14.00\">INPUT_CALC</text>\n",
       "<text text-anchor=\"middle\" x=\"338.25\" y=\"-194.54\" font-family=\"Times-Roman\" font-size=\"14.00\">node</text>\n",
       "</g>\n",
       "<!-- N8 -->\n",
       "<g id=\"node9\" class=\"node\">\n",
       "<title>N8</title>\n",
       "<ellipse fill=\"#8cd499\" stroke=\"black\" stroke-width=\"0\" cx=\"385.25\" cy=\"-265.61\" rx=\"67.35\" ry=\"26.74\"/>\n",
       "<text text-anchor=\"middle\" x=\"385.25\" y=\"-269.41\" font-family=\"Times-Roman\" font-size=\"14.00\">Float (8)</text>\n",
       "<text text-anchor=\"middle\" x=\"385.25\" y=\"-254.41\" font-family=\"Times-Roman\" font-size=\"14.00\">value: 0.05</text>\n",
       "</g>\n",
       "<!-- N8&#45;&gt;N10 -->\n",
       "<g id=\"edge4\" class=\"edge\">\n",
       "<title>N8&#45;&gt;N10</title>\n",
       "<path fill=\"none\" stroke=\"#000000\" d=\"M385.25,-238.56C385.25,-222.19 385.25,-200.85 385.25,-182.91\"/>\n",
       "<polygon fill=\"#000000\" stroke=\"#000000\" points=\"388.75,-182.81 385.25,-172.81 381.75,-182.81 388.75,-182.81\"/>\n",
       "<text text-anchor=\"middle\" x=\"428.25\" y=\"-209.54\" font-family=\"Times-Roman\" font-size=\"14.00\">INPUT_CALC</text>\n",
       "<text text-anchor=\"middle\" x=\"428.25\" y=\"-194.54\" font-family=\"Times-Roman\" font-size=\"14.00\">stdev</text>\n",
       "</g>\n",
       "<!-- N9 -->\n",
       "<g id=\"node10\" class=\"node\">\n",
       "<title>N9</title>\n",
       "<ellipse fill=\"#8cd499\" stroke=\"black\" stroke-width=\"0\" cx=\"527.25\" cy=\"-265.61\" rx=\"57.05\" ry=\"26.74\"/>\n",
       "<text text-anchor=\"middle\" x=\"527.25\" y=\"-269.41\" font-family=\"Times-Roman\" font-size=\"14.00\">Int (9)</text>\n",
       "<text text-anchor=\"middle\" x=\"527.25\" y=\"-254.41\" font-family=\"Times-Roman\" font-size=\"14.00\">value: 11</text>\n",
       "</g>\n",
       "<!-- N9&#45;&gt;N10 -->\n",
       "<g id=\"edge2\" class=\"edge\">\n",
       "<title>N9&#45;&gt;N10</title>\n",
       "<path fill=\"none\" stroke=\"#000000\" d=\"M513.78,-239.19C504.56,-223.65 491.15,-204.24 475.25,-190.74 468.52,-185.03 460.91,-179.87 453.04,-175.27\"/>\n",
       "<polygon fill=\"#000000\" stroke=\"#000000\" points=\"454.52,-172.09 444.07,-170.31 451.13,-178.21 454.52,-172.09\"/>\n",
       "<text text-anchor=\"middle\" x=\"544.25\" y=\"-209.54\" font-family=\"Times-Roman\" font-size=\"14.00\">INPUT_CALC</text>\n",
       "<text text-anchor=\"middle\" x=\"544.25\" y=\"-194.54\" font-family=\"Times-Roman\" font-size=\"14.00\">seed</text>\n",
       "</g>\n",
       "<!-- N10&#45;&gt;N11 -->\n",
       "<g id=\"edge7\" class=\"edge\">\n",
       "<title>N10&#45;&gt;N11</title>\n",
       "<path fill=\"none\" stroke=\"#000000\" d=\"M385.25,-119.48C385.25,-103.24 385.25,-82.01 385.25,-64.09\"/>\n",
       "<polygon fill=\"#000000\" stroke=\"#000000\" points=\"388.75,-63.97 385.25,-53.97 381.75,-63.97 388.75,-63.97\"/>\n",
       "<text text-anchor=\"middle\" x=\"412.75\" y=\"-90.54\" font-family=\"Times-Roman\" font-size=\"14.00\">CREATE</text>\n",
       "<text text-anchor=\"middle\" x=\"412.75\" y=\"-75.54\" font-family=\"Times-Roman\" font-size=\"14.00\">result</text>\n",
       "</g>\n",
       "</g>\n",
       "</svg>\n"
      ],
      "text/plain": [
       "<graphviz.graphs.Digraph at 0x7fe268d8a040>"
      ]
     },
     "execution_count": 15,
     "metadata": {},
     "output_type": "execute_result"
    }
   ],
   "source": [
    "from aiida.tools.visualization import Graph\n",
    "def view_provenance(node, **kwargs):\n",
    "    graph = Graph()\n",
    "    graph.recurse_ancestors(node, annotate_links=\"both\")\n",
    "    return graph.graphviz\n",
    "def view_descendants(node, **kwargs):\n",
    "    graph = Graph()\n",
    "    graph.recurse_descendants(node, annotate_links=\"both\", include_process_inputs=True)\n",
    "    return graph.graphviz\n",
    "view_provenance(defect_cell.node)"
   ]
  },
  {
   "cell_type": "markdown",
   "id": "00891253-497e-457a-8a7a-3003d7eb0e58",
   "metadata": {},
   "source": [
    "Great, we now have a full history of how our defect supercell is created.  \n",
    "`note`{The links are labeled with the names of the keyword arguments, but the positional arguments are labeld with *arg_00*.}\n",
    "\n",
    "Now let'ts create more defect structures, note the `pop` operation does an inplace mutation of the `supercell`.\n",
    "Since the intermeidate resutls are all store, we can rewind it back without problem."
   ]
  },
  {
   "cell_type": "code",
   "execution_count": 16,
   "id": "41cb1675-9950-4dea-ad0c-0f1565a38df3",
   "metadata": {},
   "outputs": [
    {
     "data": {
      "text/plain": [
       "Atom('C', [0.8925, 0.8925, 0.8925], mass=12.011)"
      ]
     },
     "execution_count": 16,
     "metadata": {},
     "output_type": "execute_result"
    }
   ],
   "source": [
    "perfect_supercell = AtomsTracker(orm.load_node(4))\n",
    "defect2 = AtomsTracker(perfect_supercell)\n",
    "defect2.pop(1)"
   ]
  },
  {
   "cell_type": "markdown",
   "id": "43146475-6647-4000-9f98-03f3e3817b39",
   "metadata": {},
   "source": [
    "Note that the `defect2` is returned is actually the same `atoms` - this is different from the `ase.Atoms.pop` which returns the poped atom.\n",
    "The tracker has this behaviour to allow operations to be chained in a single line. \n",
    "But for out of place operation, such as `repeat` or `sort` this the returned tracker will be a new object."
   ]
  },
  {
   "cell_type": "code",
   "execution_count": 17,
   "id": "d2923b85-8dce-40d5-98aa-76ab8edb5ffa",
   "metadata": {},
   "outputs": [
    {
     "data": {
      "text/plain": [
       "False"
      ]
     },
     "execution_count": 17,
     "metadata": {},
     "output_type": "execute_result"
    }
   ],
   "source": [
    "sorted_defect2 = defect2.sort()\n",
    "sorted_defect2 is defect2"
   ]
  },
  {
   "cell_type": "markdown",
   "id": "fa922daf-2172-4b85-ab1e-3f3cd8a1a56a",
   "metadata": {},
   "source": [
    "Another useful information is to check what are the descendants of a root node."
   ]
  },
  {
   "cell_type": "code",
   "execution_count": 18,
   "id": "0375ae30-814d-4215-ad61-cf28b8e4bfd9",
   "metadata": {},
   "outputs": [
    {
     "data": {
      "image/svg+xml": [
       "<?xml version=\"1.0\" encoding=\"UTF-8\" standalone=\"no\"?>\n",
       "<!DOCTYPE svg PUBLIC \"-//W3C//DTD SVG 1.1//EN\"\n",
       " \"http://www.w3.org/Graphics/SVG/1.1/DTD/svg11.dtd\">\n",
       "<!-- Generated by graphviz version 2.47.2 (20210527.1257)\n",
       " -->\n",
       "<!-- Pages: 1 -->\n",
       "<svg width=\"710pt\" height=\"778pt\"\n",
       " viewBox=\"0.00 0.00 710.11 777.96\" xmlns=\"http://www.w3.org/2000/svg\" xmlns:xlink=\"http://www.w3.org/1999/xlink\">\n",
       "<g id=\"graph0\" class=\"graph\" transform=\"scale(1 1) rotate(0) translate(4 773.96)\">\n",
       "<polygon fill=\"white\" stroke=\"transparent\" points=\"-4,4 -4,-773.96 706.11,-773.96 706.11,4 -4,4\"/>\n",
       "<!-- N2 -->\n",
       "<g id=\"node1\" class=\"node\">\n",
       "<title>N2</title>\n",
       "<ellipse fill=\"#8cd499\" stroke=\"red\" stroke-width=\"6\" cx=\"320.24\" cy=\"-743.09\" rx=\"96.75\" ry=\"26.74\"/>\n",
       "<text text-anchor=\"middle\" x=\"320.24\" y=\"-746.89\" font-family=\"Times-Roman\" font-size=\"14.00\">StructureData (2)</text>\n",
       "<text text-anchor=\"middle\" x=\"320.24\" y=\"-731.89\" font-family=\"Times-Roman\" font-size=\"14.00\">C2</text>\n",
       "</g>\n",
       "<!-- N3 -->\n",
       "<g id=\"node3\" class=\"node\">\n",
       "<title>N3</title>\n",
       "<polygon fill=\"#de707f\" fill-opacity=\"0.466667\" stroke=\"black\" stroke-width=\"0\" points=\"456.74,-650.22 339.74,-650.22 339.74,-597.22 456.74,-597.22 456.74,-650.22\"/>\n",
       "<text text-anchor=\"middle\" x=\"398.24\" y=\"-635.02\" font-family=\"Times-Roman\" font-size=\"14.00\">repeat (3)</text>\n",
       "<text text-anchor=\"middle\" x=\"398.24\" y=\"-620.02\" font-family=\"Times-Roman\" font-size=\"14.00\">State: finished</text>\n",
       "<text text-anchor=\"middle\" x=\"398.24\" y=\"-605.02\" font-family=\"Times-Roman\" font-size=\"14.00\">Exit Code: 0</text>\n",
       "</g>\n",
       "<!-- N2&#45;&gt;N3 -->\n",
       "<g id=\"edge8\" class=\"edge\">\n",
       "<title>N2&#45;&gt;N3</title>\n",
       "<path fill=\"none\" stroke=\"#000000\" d=\"M337.23,-716.44C346.65,-702.23 358.59,-684.24 369.24,-668.22 371.27,-665.17 373.38,-662 375.49,-658.82\"/>\n",
       "<polygon fill=\"#000000\" stroke=\"#000000\" points=\"378.42,-660.74 381.05,-650.48 372.6,-656.86 378.42,-660.74\"/>\n",
       "<text text-anchor=\"middle\" x=\"412.24\" y=\"-687.02\" font-family=\"Times-Roman\" font-size=\"14.00\">INPUT_CALC</text>\n",
       "<text text-anchor=\"middle\" x=\"412.24\" y=\"-672.02\" font-family=\"Times-Roman\" font-size=\"14.00\">node</text>\n",
       "</g>\n",
       "<!-- N1 -->\n",
       "<g id=\"node2\" class=\"node\">\n",
       "<title>N1</title>\n",
       "<ellipse fill=\"#8cd499\" stroke=\"black\" stroke-width=\"0\" cx=\"477.24\" cy=\"-743.09\" rx=\"42.49\" ry=\"18\"/>\n",
       "<text text-anchor=\"middle\" x=\"477.24\" y=\"-739.39\" font-family=\"Times-Roman\" font-size=\"14.00\">List (1)</text>\n",
       "</g>\n",
       "<!-- N1&#45;&gt;N3 -->\n",
       "<g id=\"edge12\" class=\"edge\">\n",
       "<title>N1&#45;&gt;N3</title>\n",
       "<path fill=\"none\" stroke=\"#000000\" d=\"M475.22,-724.95C472.67,-709.07 467.1,-685.4 455.24,-668.22 452.62,-664.43 449.57,-660.83 446.27,-657.44\"/>\n",
       "<polygon fill=\"#000000\" stroke=\"#000000\" points=\"448.39,-654.63 438.69,-650.36 443.61,-659.74 448.39,-654.63\"/>\n",
       "<text text-anchor=\"middle\" x=\"511.24\" y=\"-687.02\" font-family=\"Times-Roman\" font-size=\"14.00\">INPUT_CALC</text>\n",
       "<text text-anchor=\"middle\" x=\"511.24\" y=\"-672.02\" font-family=\"Times-Roman\" font-size=\"14.00\">arg_00</text>\n",
       "</g>\n",
       "<!-- N4 -->\n",
       "<g id=\"node4\" class=\"node\">\n",
       "<title>N4</title>\n",
       "<ellipse fill=\"#8cd499\" stroke=\"black\" stroke-width=\"0\" cx=\"398.24\" cy=\"-504.35\" rx=\"96.75\" ry=\"26.74\"/>\n",
       "<text text-anchor=\"middle\" x=\"398.24\" y=\"-508.15\" font-family=\"Times-Roman\" font-size=\"14.00\">StructureData (4)</text>\n",
       "<text text-anchor=\"middle\" x=\"398.24\" y=\"-493.15\" font-family=\"Times-Roman\" font-size=\"14.00\">C54</text>\n",
       "</g>\n",
       "<!-- N3&#45;&gt;N4 -->\n",
       "<g id=\"edge15\" class=\"edge\">\n",
       "<title>N3&#45;&gt;N4</title>\n",
       "<path fill=\"none\" stroke=\"#000000\" d=\"M398.24,-596.96C398.24,-580.72 398.24,-559.49 398.24,-541.57\"/>\n",
       "<polygon fill=\"#000000\" stroke=\"#000000\" points=\"401.74,-541.45 398.24,-531.45 394.74,-541.45 401.74,-541.45\"/>\n",
       "<text text-anchor=\"middle\" x=\"425.74\" y=\"-568.02\" font-family=\"Times-Roman\" font-size=\"14.00\">CREATE</text>\n",
       "<text text-anchor=\"middle\" x=\"425.74\" y=\"-553.02\" font-family=\"Times-Roman\" font-size=\"14.00\">result</text>\n",
       "</g>\n",
       "<!-- N6 -->\n",
       "<g id=\"node6\" class=\"node\">\n",
       "<title>N6</title>\n",
       "<polygon fill=\"#de707f\" fill-opacity=\"0.466667\" stroke=\"black\" stroke-width=\"0\" points=\"648.74,-411.48 531.74,-411.48 531.74,-358.48 648.74,-358.48 648.74,-411.48\"/>\n",
       "<text text-anchor=\"middle\" x=\"590.24\" y=\"-396.28\" font-family=\"Times-Roman\" font-size=\"14.00\">pop (6)</text>\n",
       "<text text-anchor=\"middle\" x=\"590.24\" y=\"-381.28\" font-family=\"Times-Roman\" font-size=\"14.00\">State: finished</text>\n",
       "<text text-anchor=\"middle\" x=\"590.24\" y=\"-366.28\" font-family=\"Times-Roman\" font-size=\"14.00\">Exit Code: 0</text>\n",
       "</g>\n",
       "<!-- N4&#45;&gt;N6 -->\n",
       "<g id=\"edge3\" class=\"edge\">\n",
       "<title>N4&#45;&gt;N6</title>\n",
       "<path fill=\"none\" stroke=\"#000000\" d=\"M429.41,-478.56C449.12,-463.46 475.46,-444.28 500.24,-429.48 507.81,-424.95 515.93,-420.51 524.08,-416.29\"/>\n",
       "<polygon fill=\"#000000\" stroke=\"#000000\" points=\"525.93,-419.28 533.26,-411.63 522.76,-413.04 525.93,-419.28\"/>\n",
       "<text text-anchor=\"middle\" x=\"543.24\" y=\"-448.28\" font-family=\"Times-Roman\" font-size=\"14.00\">INPUT_CALC</text>\n",
       "<text text-anchor=\"middle\" x=\"543.24\" y=\"-433.28\" font-family=\"Times-Roman\" font-size=\"14.00\">node</text>\n",
       "</g>\n",
       "<!-- N13 -->\n",
       "<g id=\"node13\" class=\"node\">\n",
       "<title>N13</title>\n",
       "<polygon fill=\"#de707f\" fill-opacity=\"0.466667\" stroke=\"black\" stroke-width=\"0\" points=\"205.74,-411.48 88.74,-411.48 88.74,-358.48 205.74,-358.48 205.74,-411.48\"/>\n",
       "<text text-anchor=\"middle\" x=\"147.24\" y=\"-396.28\" font-family=\"Times-Roman\" font-size=\"14.00\">pop (13)</text>\n",
       "<text text-anchor=\"middle\" x=\"147.24\" y=\"-381.28\" font-family=\"Times-Roman\" font-size=\"14.00\">State: finished</text>\n",
       "<text text-anchor=\"middle\" x=\"147.24\" y=\"-366.28\" font-family=\"Times-Roman\" font-size=\"14.00\">Exit Code: 0</text>\n",
       "</g>\n",
       "<!-- N4&#45;&gt;N13 -->\n",
       "<g id=\"edge6\" class=\"edge\">\n",
       "<title>N4&#45;&gt;N13</title>\n",
       "<path fill=\"none\" stroke=\"#000000\" d=\"M350.14,-480.86C310.75,-462.44 254.68,-436.22 211.46,-416.01\"/>\n",
       "<polygon fill=\"#000000\" stroke=\"#000000\" points=\"212.7,-412.73 202.16,-411.66 209.74,-419.07 212.7,-412.73\"/>\n",
       "<text text-anchor=\"middle\" x=\"346.24\" y=\"-448.28\" font-family=\"Times-Roman\" font-size=\"14.00\">INPUT_CALC</text>\n",
       "<text text-anchor=\"middle\" x=\"346.24\" y=\"-433.28\" font-family=\"Times-Roman\" font-size=\"14.00\">node</text>\n",
       "</g>\n",
       "<!-- N5 -->\n",
       "<g id=\"node5\" class=\"node\">\n",
       "<title>N5</title>\n",
       "<ellipse fill=\"#8cd499\" stroke=\"black\" stroke-width=\"0\" cx=\"590.24\" cy=\"-504.35\" rx=\"50.82\" ry=\"26.74\"/>\n",
       "<text text-anchor=\"middle\" x=\"590.24\" y=\"-508.15\" font-family=\"Times-Roman\" font-size=\"14.00\">Int (5)</text>\n",
       "<text text-anchor=\"middle\" x=\"590.24\" y=\"-493.15\" font-family=\"Times-Roman\" font-size=\"14.00\">value: 0</text>\n",
       "</g>\n",
       "<!-- N5&#45;&gt;N6 -->\n",
       "<g id=\"edge7\" class=\"edge\">\n",
       "<title>N5&#45;&gt;N6</title>\n",
       "<path fill=\"none\" stroke=\"#000000\" d=\"M590.24,-477.3C590.24,-460.93 590.24,-439.59 590.24,-421.65\"/>\n",
       "<polygon fill=\"#000000\" stroke=\"#000000\" points=\"593.74,-421.55 590.24,-411.55 586.74,-421.55 593.74,-421.55\"/>\n",
       "<text text-anchor=\"middle\" x=\"633.24\" y=\"-448.28\" font-family=\"Times-Roman\" font-size=\"14.00\">INPUT_CALC</text>\n",
       "<text text-anchor=\"middle\" x=\"633.24\" y=\"-433.28\" font-family=\"Times-Roman\" font-size=\"14.00\">arg_00</text>\n",
       "</g>\n",
       "<!-- N7 -->\n",
       "<g id=\"node7\" class=\"node\">\n",
       "<title>N7</title>\n",
       "<ellipse fill=\"#8cd499\" stroke=\"black\" stroke-width=\"0\" cx=\"605.24\" cy=\"-265.61\" rx=\"96.75\" ry=\"26.74\"/>\n",
       "<text text-anchor=\"middle\" x=\"605.24\" y=\"-269.41\" font-family=\"Times-Roman\" font-size=\"14.00\">StructureData (7)</text>\n",
       "<text text-anchor=\"middle\" x=\"605.24\" y=\"-254.41\" font-family=\"Times-Roman\" font-size=\"14.00\">C53</text>\n",
       "</g>\n",
       "<!-- N6&#45;&gt;N7 -->\n",
       "<g id=\"edge9\" class=\"edge\">\n",
       "<title>N6&#45;&gt;N7</title>\n",
       "<path fill=\"none\" stroke=\"#000000\" d=\"M593.53,-358.22C595.61,-341.98 598.32,-320.75 600.61,-302.83\"/>\n",
       "<polygon fill=\"#000000\" stroke=\"#000000\" points=\"604.11,-303.08 601.9,-292.71 597.16,-302.19 604.11,-303.08\"/>\n",
       "<text text-anchor=\"middle\" x=\"626.74\" y=\"-329.28\" font-family=\"Times-Roman\" font-size=\"14.00\">CREATE</text>\n",
       "<text text-anchor=\"middle\" x=\"626.74\" y=\"-314.28\" font-family=\"Times-Roman\" font-size=\"14.00\">result</text>\n",
       "</g>\n",
       "<!-- N10 -->\n",
       "<g id=\"node10\" class=\"node\">\n",
       "<title>N10</title>\n",
       "<polygon fill=\"#de707f\" fill-opacity=\"0.466667\" stroke=\"black\" stroke-width=\"0\" points=\"491.74,-172.74 374.74,-172.74 374.74,-119.74 491.74,-119.74 491.74,-172.74\"/>\n",
       "<text text-anchor=\"middle\" x=\"433.24\" y=\"-157.54\" font-family=\"Times-Roman\" font-size=\"14.00\">rattle (10)</text>\n",
       "<text text-anchor=\"middle\" x=\"433.24\" y=\"-142.54\" font-family=\"Times-Roman\" font-size=\"14.00\">State: finished</text>\n",
       "<text text-anchor=\"middle\" x=\"433.24\" y=\"-127.54\" font-family=\"Times-Roman\" font-size=\"14.00\">Exit Code: 0</text>\n",
       "</g>\n",
       "<!-- N7&#45;&gt;N10 -->\n",
       "<g id=\"edge14\" class=\"edge\">\n",
       "<title>N7&#45;&gt;N10</title>\n",
       "<path fill=\"none\" stroke=\"#000000\" d=\"M580.93,-239.34C565.37,-224.05 544.23,-204.85 523.24,-190.74 516.3,-186.08 508.79,-181.63 501.17,-177.48\"/>\n",
       "<polygon fill=\"#000000\" stroke=\"#000000\" points=\"502.67,-174.32 492.19,-172.76 499.41,-180.51 502.67,-174.32\"/>\n",
       "<text text-anchor=\"middle\" x=\"603.24\" y=\"-209.54\" font-family=\"Times-Roman\" font-size=\"14.00\">INPUT_CALC</text>\n",
       "<text text-anchor=\"middle\" x=\"603.24\" y=\"-194.54\" font-family=\"Times-Roman\" font-size=\"14.00\">node</text>\n",
       "</g>\n",
       "<!-- N8 -->\n",
       "<g id=\"node8\" class=\"node\">\n",
       "<title>N8</title>\n",
       "<ellipse fill=\"#8cd499\" stroke=\"black\" stroke-width=\"0\" cx=\"291.24\" cy=\"-265.61\" rx=\"67.35\" ry=\"26.74\"/>\n",
       "<text text-anchor=\"middle\" x=\"291.24\" y=\"-269.41\" font-family=\"Times-Roman\" font-size=\"14.00\">Float (8)</text>\n",
       "<text text-anchor=\"middle\" x=\"291.24\" y=\"-254.41\" font-family=\"Times-Roman\" font-size=\"14.00\">value: 0.05</text>\n",
       "</g>\n",
       "<!-- N8&#45;&gt;N10 -->\n",
       "<g id=\"edge1\" class=\"edge\">\n",
       "<title>N8&#45;&gt;N10</title>\n",
       "<path fill=\"none\" stroke=\"#000000\" d=\"M304.7,-239.19C313.92,-223.65 327.34,-204.24 343.24,-190.74 349.97,-185.03 357.57,-179.87 365.45,-175.27\"/>\n",
       "<polygon fill=\"#000000\" stroke=\"#000000\" points=\"367.35,-178.21 374.41,-170.31 363.97,-172.09 367.35,-178.21\"/>\n",
       "<text text-anchor=\"middle\" x=\"386.24\" y=\"-209.54\" font-family=\"Times-Roman\" font-size=\"14.00\">INPUT_CALC</text>\n",
       "<text text-anchor=\"middle\" x=\"386.24\" y=\"-194.54\" font-family=\"Times-Roman\" font-size=\"14.00\">stdev</text>\n",
       "</g>\n",
       "<!-- N9 -->\n",
       "<g id=\"node9\" class=\"node\">\n",
       "<title>N9</title>\n",
       "<ellipse fill=\"#8cd499\" stroke=\"black\" stroke-width=\"0\" cx=\"433.24\" cy=\"-265.61\" rx=\"57.05\" ry=\"26.74\"/>\n",
       "<text text-anchor=\"middle\" x=\"433.24\" y=\"-269.41\" font-family=\"Times-Roman\" font-size=\"14.00\">Int (9)</text>\n",
       "<text text-anchor=\"middle\" x=\"433.24\" y=\"-254.41\" font-family=\"Times-Roman\" font-size=\"14.00\">value: 11</text>\n",
       "</g>\n",
       "<!-- N9&#45;&gt;N10 -->\n",
       "<g id=\"edge10\" class=\"edge\">\n",
       "<title>N9&#45;&gt;N10</title>\n",
       "<path fill=\"none\" stroke=\"#000000\" d=\"M433.24,-238.56C433.24,-222.19 433.24,-200.85 433.24,-182.91\"/>\n",
       "<polygon fill=\"#000000\" stroke=\"#000000\" points=\"436.74,-182.81 433.24,-172.81 429.74,-182.81 436.74,-182.81\"/>\n",
       "<text text-anchor=\"middle\" x=\"476.24\" y=\"-209.54\" font-family=\"Times-Roman\" font-size=\"14.00\">INPUT_CALC</text>\n",
       "<text text-anchor=\"middle\" x=\"476.24\" y=\"-194.54\" font-family=\"Times-Roman\" font-size=\"14.00\">seed</text>\n",
       "</g>\n",
       "<!-- N11 -->\n",
       "<g id=\"node11\" class=\"node\">\n",
       "<title>N11</title>\n",
       "<ellipse fill=\"#8cd499\" stroke=\"black\" stroke-width=\"0\" cx=\"433.24\" cy=\"-26.87\" rx=\"103.48\" ry=\"26.74\"/>\n",
       "<text text-anchor=\"middle\" x=\"433.24\" y=\"-30.67\" font-family=\"Times-Roman\" font-size=\"14.00\">StructureData (11)</text>\n",
       "<text text-anchor=\"middle\" x=\"433.24\" y=\"-15.67\" font-family=\"Times-Roman\" font-size=\"14.00\">C53</text>\n",
       "</g>\n",
       "<!-- N10&#45;&gt;N11 -->\n",
       "<g id=\"edge5\" class=\"edge\">\n",
       "<title>N10&#45;&gt;N11</title>\n",
       "<path fill=\"none\" stroke=\"#000000\" d=\"M433.24,-119.48C433.24,-103.24 433.24,-82.01 433.24,-64.09\"/>\n",
       "<polygon fill=\"#000000\" stroke=\"#000000\" points=\"436.74,-63.97 433.24,-53.97 429.74,-63.97 436.74,-63.97\"/>\n",
       "<text text-anchor=\"middle\" x=\"460.74\" y=\"-90.54\" font-family=\"Times-Roman\" font-size=\"14.00\">CREATE</text>\n",
       "<text text-anchor=\"middle\" x=\"460.74\" y=\"-75.54\" font-family=\"Times-Roman\" font-size=\"14.00\">result</text>\n",
       "</g>\n",
       "<!-- N12 -->\n",
       "<g id=\"node12\" class=\"node\">\n",
       "<title>N12</title>\n",
       "<ellipse fill=\"#8cd499\" stroke=\"black\" stroke-width=\"0\" cx=\"147.24\" cy=\"-504.35\" rx=\"50.82\" ry=\"26.74\"/>\n",
       "<text text-anchor=\"middle\" x=\"147.24\" y=\"-508.15\" font-family=\"Times-Roman\" font-size=\"14.00\">Int (12)</text>\n",
       "<text text-anchor=\"middle\" x=\"147.24\" y=\"-493.15\" font-family=\"Times-Roman\" font-size=\"14.00\">value: 1</text>\n",
       "</g>\n",
       "<!-- N12&#45;&gt;N13 -->\n",
       "<g id=\"edge4\" class=\"edge\">\n",
       "<title>N12&#45;&gt;N13</title>\n",
       "<path fill=\"none\" stroke=\"#000000\" d=\"M147.24,-477.3C147.24,-460.93 147.24,-439.59 147.24,-421.65\"/>\n",
       "<polygon fill=\"#000000\" stroke=\"#000000\" points=\"150.74,-421.55 147.24,-411.55 143.74,-421.55 150.74,-421.55\"/>\n",
       "<text text-anchor=\"middle\" x=\"190.24\" y=\"-448.28\" font-family=\"Times-Roman\" font-size=\"14.00\">INPUT_CALC</text>\n",
       "<text text-anchor=\"middle\" x=\"190.24\" y=\"-433.28\" font-family=\"Times-Roman\" font-size=\"14.00\">arg_00</text>\n",
       "</g>\n",
       "<!-- N14 -->\n",
       "<g id=\"node14\" class=\"node\">\n",
       "<title>N14</title>\n",
       "<ellipse fill=\"#8cd499\" stroke=\"black\" stroke-width=\"0\" cx=\"103.24\" cy=\"-265.61\" rx=\"103.48\" ry=\"26.74\"/>\n",
       "<text text-anchor=\"middle\" x=\"103.24\" y=\"-269.41\" font-family=\"Times-Roman\" font-size=\"14.00\">StructureData (14)</text>\n",
       "<text text-anchor=\"middle\" x=\"103.24\" y=\"-254.41\" font-family=\"Times-Roman\" font-size=\"14.00\">C53</text>\n",
       "</g>\n",
       "<!-- N13&#45;&gt;N14 -->\n",
       "<g id=\"edge11\" class=\"edge\">\n",
       "<title>N13&#45;&gt;N14</title>\n",
       "<path fill=\"none\" stroke=\"#000000\" d=\"M137.58,-358.22C131.43,-341.83 123.39,-320.36 116.63,-302.32\"/>\n",
       "<polygon fill=\"#000000\" stroke=\"#000000\" points=\"119.81,-300.85 113.02,-292.71 113.26,-303.31 119.81,-300.85\"/>\n",
       "<text text-anchor=\"middle\" x=\"158.74\" y=\"-329.28\" font-family=\"Times-Roman\" font-size=\"14.00\">CREATE</text>\n",
       "<text text-anchor=\"middle\" x=\"158.74\" y=\"-314.28\" font-family=\"Times-Roman\" font-size=\"14.00\">result</text>\n",
       "</g>\n",
       "<!-- N15 -->\n",
       "<g id=\"node15\" class=\"node\">\n",
       "<title>N15</title>\n",
       "<polygon fill=\"#de707f\" fill-opacity=\"0.466667\" stroke=\"black\" stroke-width=\"0\" points=\"161.74,-172.74 44.74,-172.74 44.74,-119.74 161.74,-119.74 161.74,-172.74\"/>\n",
       "<text text-anchor=\"middle\" x=\"103.24\" y=\"-157.54\" font-family=\"Times-Roman\" font-size=\"14.00\">sort (15)</text>\n",
       "<text text-anchor=\"middle\" x=\"103.24\" y=\"-142.54\" font-family=\"Times-Roman\" font-size=\"14.00\">State: finished</text>\n",
       "<text text-anchor=\"middle\" x=\"103.24\" y=\"-127.54\" font-family=\"Times-Roman\" font-size=\"14.00\">Exit Code: 0</text>\n",
       "</g>\n",
       "<!-- N14&#45;&gt;N15 -->\n",
       "<g id=\"edge13\" class=\"edge\">\n",
       "<title>N14&#45;&gt;N15</title>\n",
       "<path fill=\"none\" stroke=\"#000000\" d=\"M103.24,-238.56C103.24,-222.19 103.24,-200.85 103.24,-182.91\"/>\n",
       "<polygon fill=\"#000000\" stroke=\"#000000\" points=\"106.74,-182.81 103.24,-172.81 99.74,-182.81 106.74,-182.81\"/>\n",
       "<text text-anchor=\"middle\" x=\"146.24\" y=\"-209.54\" font-family=\"Times-Roman\" font-size=\"14.00\">INPUT_CALC</text>\n",
       "<text text-anchor=\"middle\" x=\"146.24\" y=\"-194.54\" font-family=\"Times-Roman\" font-size=\"14.00\">node</text>\n",
       "</g>\n",
       "<!-- N16 -->\n",
       "<g id=\"node16\" class=\"node\">\n",
       "<title>N16</title>\n",
       "<ellipse fill=\"#8cd499\" stroke=\"black\" stroke-width=\"0\" cx=\"103.24\" cy=\"-26.87\" rx=\"103.48\" ry=\"26.74\"/>\n",
       "<text text-anchor=\"middle\" x=\"103.24\" y=\"-30.67\" font-family=\"Times-Roman\" font-size=\"14.00\">StructureData (16)</text>\n",
       "<text text-anchor=\"middle\" x=\"103.24\" y=\"-15.67\" font-family=\"Times-Roman\" font-size=\"14.00\">C53</text>\n",
       "</g>\n",
       "<!-- N15&#45;&gt;N16 -->\n",
       "<g id=\"edge2\" class=\"edge\">\n",
       "<title>N15&#45;&gt;N16</title>\n",
       "<path fill=\"none\" stroke=\"#000000\" d=\"M103.24,-119.48C103.24,-103.24 103.24,-82.01 103.24,-64.09\"/>\n",
       "<polygon fill=\"#000000\" stroke=\"#000000\" points=\"106.74,-63.97 103.24,-53.97 99.74,-63.97 106.74,-63.97\"/>\n",
       "<text text-anchor=\"middle\" x=\"130.74\" y=\"-90.54\" font-family=\"Times-Roman\" font-size=\"14.00\">CREATE</text>\n",
       "<text text-anchor=\"middle\" x=\"130.74\" y=\"-75.54\" font-family=\"Times-Roman\" font-size=\"14.00\">result</text>\n",
       "</g>\n",
       "</g>\n",
       "</svg>\n"
      ],
      "text/plain": [
       "<graphviz.graphs.Digraph at 0x7fe268c3aee0>"
      ]
     },
     "execution_count": 18,
     "metadata": {},
     "output_type": "execute_result"
    }
   ],
   "source": [
    "view_descendants(tracker.node)"
   ]
  },
  {
   "cell_type": "code",
   "execution_count": 19,
   "id": "e3a6fd7b-f1fb-4a39-9591-4954f6ecd990",
   "metadata": {},
   "outputs": [
    {
     "data": {
      "text/plain": [
       "<aiida.orm.nodes.node.NodeBase at 0x7fe26908e2b0>"
      ]
     },
     "execution_count": 19,
     "metadata": {},
     "output_type": "execute_result"
    }
   ],
   "source": [
    "tracker.node.base"
   ]
  }
 ],
 "metadata": {
  "kernelspec": {
   "display_name": "Python 3 (ipykernel)",
   "language": "python",
   "name": "python3"
  },
  "language_info": {
   "codemirror_mode": {
    "name": "ipython",
    "version": 3
   },
   "file_extension": ".py",
   "mimetype": "text/x-python",
   "name": "python",
   "nbconvert_exporter": "python",
   "pygments_lexer": "ipython3",
   "version": "3.10.9"
  }
 },
 "nbformat": 4,
 "nbformat_minor": 5
}
